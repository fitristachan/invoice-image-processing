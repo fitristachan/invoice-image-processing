{
  "cells": [
    {
      "cell_type": "code",
      "execution_count": 103,
      "metadata": {
        "id": "l7AbYIPTK4Ei"
      },
      "outputs": [],
      "source": [
        "# !pip install datasets\n",
        "# !pip install Pillow\n",
        "# !pip install numpy\n",
        "# !pip install matplotlib\n",
        "# !pip install import_ipynb\n",
        "# !pip install tensorflow\n",
        "# !pip install tensorflow.keras\n",
        "\n",
        "# # !pip install torch\n",
        "# # !pip install torchvision\n",
        "# # !pip install scikit-image\n",
        "# # !pip install scipy\n",
        "# !pip install easyocr\n",
        "\n",
        "# #library from etl\n",
        "# %pip install datasets\n",
        "# %pip install numpy\n",
        "# %pip install Pillow\n",
        "# %pip install opencv-python\n",
        "# %pip install json"
      ]
    },
    {
      "cell_type": "code",
      "source": [
        "import easyocr\n",
        "import matplotlib.pyplot as plt\n",
        "from datasets import load_dataset\n",
        "import numpy as np\n",
        "from PIL import Image\n",
        "import cv2\n",
        "import tensorflow as tf\n",
        "import json"
      ],
      "metadata": {
        "id": "LGb_mueSWqNf"
      },
      "execution_count": 104,
      "outputs": []
    },
    {
      "cell_type": "code",
      "execution_count": 105,
      "metadata": {
        "colab": {
          "base_uri": "https://localhost:8080/"
        },
        "id": "07me5aotGmoh",
        "outputId": "1fd84f32-1efb-49ae-d7bf-553da1810581"
      },
      "outputs": [
        {
          "output_type": "stream",
          "name": "stdout",
          "text": [
            "fatal: destination path '/content/invoice-image-processing' already exists and is not an empty directory.\n",
            "remote: Enumerating objects: 5, done.\u001b[K\n",
            "remote: Counting objects: 100% (5/5), done.\u001b[K\n",
            "remote: Compressing objects: 100% (3/3), done.\u001b[K\n",
            "Unpacking objects: 100% (3/3), 432 bytes | 108.00 KiB/s, done.\n",
            "remote: Total 3 (delta 2), reused 0 (delta 0), pack-reused 0 (from 0)\u001b[K\n",
            "From https://github.com/fitristachan/invoice-image-processing\n",
            "   4ebd865..171a1a0  main       -> origin/main\n",
            "Updating 4ebd865..171a1a0\n",
            "Fast-forward\n",
            " data_etl_invoice.ipynb | 26 \u001b[32m+++++++++++++\u001b[m\u001b[31m-------------\u001b[m\n",
            " 1 file changed, 13 insertions(+), 13 deletions(-)\n"
          ]
        }
      ],
      "source": [
        "from google.colab import userdata\n",
        "\n",
        "# Retrieve the GitHub token from userdata\n",
        "myGithub = userdata.get('githubKey')\n",
        "\n",
        "!git clone https://{myGithub}@github.com/fitristachan/invoice-image-processing.git /content/invoice-image-processing\n",
        "!git -C invoice-image-processing pull"
      ]
    },
    {
      "cell_type": "code",
      "execution_count": 106,
      "metadata": {
        "id": "xAcGkB2eD3XN",
        "colab": {
          "base_uri": "https://localhost:8080/"
        },
        "outputId": "13951a39-c468-4194-8a3d-5f65f2a6c4e0"
      },
      "outputs": [
        {
          "output_type": "stream",
          "name": "stdout",
          "text": [
            "['.git', 'invoice-image-processing.code-workspace', 'requirements.txt', 'Dataset', 'data_etl_invoice.ipynb', 'preprocessing.ipynb', 'data_etl.py', '__pycache__', 'model_ver_1.ipynb']\n",
            "[NbConvertApp] Converting notebook /content/invoice-image-processing/data_etl_invoice.ipynb to script\n",
            "[NbConvertApp] Writing 7835 bytes to /content/invoice-image-processing/data_etl.py\n"
          ]
        }
      ],
      "source": [
        "import sys\n",
        "import os\n",
        "\n",
        "sys.path.append('/content/invoice-image-processing')\n",
        "print(os.listdir('/content/invoice-image-processing'))\n",
        "\n",
        "!jupyter nbconvert --to script '/content/invoice-image-processing/data_etl_invoice.ipynb' --output data_etl"
      ]
    },
    {
      "cell_type": "markdown",
      "metadata": {
        "id": "Ged1zlumREAq"
      },
      "source": [
        "**Text Extraction**\n",
        "\n",
        "> using easyocr\n",
        "\n",
        "> support bahasa indonesia and english\n",
        "\n",
        "\n",
        "\n"
      ]
    },
    {
      "cell_type": "code",
      "execution_count": 107,
      "metadata": {
        "id": "-f01YTPk-JDk"
      },
      "outputs": [],
      "source": [
        "reader = easyocr.Reader(['en', 'id'])\n",
        "\n",
        "def is_receipt(text, logic='AND'):\n",
        "    required_keywords = ['total', 'amount', 'jumlah', 'price', 'harga']\n",
        "    text_lower = text.lower()\n",
        "\n",
        "    #diubah nanti jadinya ada yang and ada yang or\n",
        "    if logic == 'AND':\n",
        "        return all(keyword in text_lower for keyword in required_keywords)\n",
        "    elif logic == 'OR':\n",
        "        return any(keyword in text_lower for keyword in required_keywords)\n",
        "    else:\n",
        "        raise ValueError(\"Invalid logic parameter. Use 'AND' or 'OR'.\")\n",
        "\n",
        "\n",
        "def process_image(image, logic='AND'):\n",
        "    # Convert PIL Image to numpy array\n",
        "    image_np = np.array(image)\n",
        "\n",
        "    # Extract text using EasyOCR\n",
        "    results = reader.readtext(image_np)\n",
        "\n",
        "    # Combine all detected text into a single string\n",
        "    extracted_text = ' '.join([result[1] for result in results])\n",
        "\n",
        "    # Check if the extracted text is a receipt\n",
        "    if is_receipt(extracted_text, logic=logic):\n",
        "        print(\"This is a valid receipt.\")\n",
        "        print(\"Extracted Text:\")\n",
        "        print(extracted_text)\n",
        "    else:\n",
        "        print(\"This is not a valid receipt.\")"
      ]
    },
    {
      "cell_type": "markdown",
      "source": [
        "Training"
      ],
      "metadata": {
        "id": "aiCMXKCupJ5w"
      }
    },
    {
      "cell_type": "code",
      "source": [
        "from data_etl import DatasetReceipt"
      ],
      "metadata": {
        "id": "ijGGfRQ5ctUF"
      },
      "execution_count": 108,
      "outputs": []
    },
    {
      "cell_type": "code",
      "source": [
        "# Inisialisasi dataset\n",
        "dataset = DatasetReceipt()\n",
        "\n",
        "# Ambil sampel data\n",
        "sample = dataset[0]\n",
        "print(\"Sample Output:\")\n",
        "print(\"Image Shape:\", sample[\"image\"].shape)  # Akan menampilkan (600, 600)\n",
        "print(\"Label:\", sample[\"label\"])\n",
        "\n",
        "# Konversi gambar ke TensorFlow tensor\n",
        "image = tf.convert_to_tensor(sample[\"image\"], dtype=tf.float32)\n",
        "image = tf.expand_dims(image, axis=-1)  # Tambahkan channel untuk CNN\n",
        "print(\"Image Tensor Shape:\", image.shape)  # Akan menampilkan (600, 600, 1)"
      ],
      "metadata": {
        "colab": {
          "base_uri": "https://localhost:8080/",
          "height": 332
        },
        "id": "_vo6kdvMQ4lY",
        "outputId": "b14aa9d6-6077-47da-94d7-f19e88824004"
      },
      "execution_count": 110,
      "outputs": [
        {
          "output_type": "error",
          "ename": "NameError",
          "evalue": "name 'tf' is not defined",
          "traceback": [
            "\u001b[0;31m---------------------------------------------------------------------------\u001b[0m",
            "\u001b[0;31mNameError\u001b[0m                                 Traceback (most recent call last)",
            "\u001b[0;32m<ipython-input-110-043818479850>\u001b[0m in \u001b[0;36m<cell line: 0>\u001b[0;34m()\u001b[0m\n\u001b[1;32m      3\u001b[0m \u001b[0;34m\u001b[0m\u001b[0m\n\u001b[1;32m      4\u001b[0m \u001b[0;31m# Ambil sampel data\u001b[0m\u001b[0;34m\u001b[0m\u001b[0;34m\u001b[0m\u001b[0m\n\u001b[0;32m----> 5\u001b[0;31m \u001b[0msample\u001b[0m \u001b[0;34m=\u001b[0m \u001b[0mdataset\u001b[0m\u001b[0;34m[\u001b[0m\u001b[0;36m0\u001b[0m\u001b[0;34m]\u001b[0m\u001b[0;34m\u001b[0m\u001b[0;34m\u001b[0m\u001b[0m\n\u001b[0m\u001b[1;32m      6\u001b[0m \u001b[0mprint\u001b[0m\u001b[0;34m(\u001b[0m\u001b[0;34m\"Sample Output:\"\u001b[0m\u001b[0;34m)\u001b[0m\u001b[0;34m\u001b[0m\u001b[0;34m\u001b[0m\u001b[0m\n\u001b[1;32m      7\u001b[0m \u001b[0mprint\u001b[0m\u001b[0;34m(\u001b[0m\u001b[0;34m\"Image Shape:\"\u001b[0m\u001b[0;34m,\u001b[0m \u001b[0msample\u001b[0m\u001b[0;34m[\u001b[0m\u001b[0;34m\"image\"\u001b[0m\u001b[0;34m]\u001b[0m\u001b[0;34m.\u001b[0m\u001b[0mshape\u001b[0m\u001b[0;34m)\u001b[0m  \u001b[0;31m# Akan menampilkan (600, 600)\u001b[0m\u001b[0;34m\u001b[0m\u001b[0;34m\u001b[0m\u001b[0m\n",
            "\u001b[0;32m/content/invoice-image-processing/data_etl.py\u001b[0m in \u001b[0;36m__getitem__\u001b[0;34m(self, idx)\u001b[0m\n\u001b[1;32m    169\u001b[0m         \u001b[0;32mreturn\u001b[0m \u001b[0mlen\u001b[0m\u001b[0;34m(\u001b[0m\u001b[0mself\u001b[0m\u001b[0;34m.\u001b[0m\u001b[0mdataset\u001b[0m\u001b[0;34m)\u001b[0m\u001b[0;34m\u001b[0m\u001b[0;34m\u001b[0m\u001b[0m\n\u001b[1;32m    170\u001b[0m \u001b[0;34m\u001b[0m\u001b[0m\n\u001b[0;32m--> 171\u001b[0;31m     \u001b[0;32mdef\u001b[0m \u001b[0m__getitem__\u001b[0m\u001b[0;34m(\u001b[0m\u001b[0mself\u001b[0m\u001b[0;34m,\u001b[0m \u001b[0midx\u001b[0m\u001b[0;34m)\u001b[0m\u001b[0;34m:\u001b[0m\u001b[0;34m\u001b[0m\u001b[0;34m\u001b[0m\u001b[0m\n\u001b[0m\u001b[1;32m    172\u001b[0m         \"\"\"\n\u001b[1;32m    173\u001b[0m         \u001b[0mMengambil\u001b[0m \u001b[0msampel\u001b[0m \u001b[0mdari\u001b[0m \u001b[0mdataset\u001b[0m \u001b[0mberdasarkan\u001b[0m \u001b[0mindeks\u001b[0m\u001b[0;34m.\u001b[0m\u001b[0;34m\u001b[0m\u001b[0;34m\u001b[0m\u001b[0m\n",
            "\u001b[0;31mNameError\u001b[0m: name 'tf' is not defined"
          ]
        }
      ]
    },
    {
      "cell_type": "code",
      "source": [
        "# Lanjutkan dengan pembuatan model TensorFlow/Keras\n",
        "model = tf.keras.Sequential([\n",
        "    tf.keras.layers.Input(shape=(600, 600, 1)),\n",
        "    tf.keras.layers.Conv2D(32, (3, 3), activation='relu'),\n",
        "    tf.keras.layers.MaxPooling2D((2, 2)),\n",
        "    tf.keras.layers.Flatten(),\n",
        "    tf.keras.layers.Dense(128, activation='relu'),\n",
        "    tf.keras.layers.Dense(10, activation='softmax')  # Sesuaikan dengan jumlah kelas\n",
        "])\n",
        "\n",
        "model.compile(optimizer='adam', loss='sparse_categorical_crossentropy', metrics=['accuracy'])\n",
        "print(\"Model Summary:\")\n",
        "model.summary()"
      ],
      "metadata": {
        "id": "uyjKutbMFsYp"
      },
      "execution_count": null,
      "outputs": []
    },
    {
      "cell_type": "code",
      "source": [
        "# model.fit(padded, labels, epochs=10, batch_size=32)"
      ],
      "metadata": {
        "id": "52b5q5KAQhWp"
      },
      "execution_count": null,
      "outputs": []
    }
  ],
  "metadata": {
    "colab": {
      "provenance": [],
      "gpuType": "T4"
    },
    "kernelspec": {
      "display_name": "Python 3",
      "name": "python3"
    },
    "language_info": {
      "codemirror_mode": {
        "name": "ipython",
        "version": 3
      },
      "file_extension": ".py",
      "mimetype": "text/x-python",
      "name": "python",
      "nbconvert_exporter": "python",
      "pygments_lexer": "ipython3",
      "version": "3.11.9"
    },
    "accelerator": "GPU"
  },
  "nbformat": 4,
  "nbformat_minor": 0
}