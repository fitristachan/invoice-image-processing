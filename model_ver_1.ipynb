{
  "cells": [
    {
      "cell_type": "code",
      "execution_count": null,
      "metadata": {
        "id": "l7AbYIPTK4Ei",
        "colab": {
          "base_uri": "https://localhost:8080/"
        },
        "outputId": "24961ae3-0787-492c-bcd2-7f06dca22a7e"
      },
      "outputs": [
        {
          "output_type": "stream",
          "name": "stdout",
          "text": [
            "Collecting datasets\n",
            "  Downloading datasets-3.4.1-py3-none-any.whl.metadata (19 kB)\n",
            "Requirement already satisfied: filelock in /usr/local/lib/python3.11/dist-packages (from datasets) (3.18.0)\n",
            "Requirement already satisfied: numpy>=1.17 in /usr/local/lib/python3.11/dist-packages (from datasets) (2.0.2)\n",
            "Requirement already satisfied: pyarrow>=15.0.0 in /usr/local/lib/python3.11/dist-packages (from datasets) (18.1.0)\n",
            "Collecting dill<0.3.9,>=0.3.0 (from datasets)\n",
            "  Downloading dill-0.3.8-py3-none-any.whl.metadata (10 kB)\n",
            "Requirement already satisfied: pandas in /usr/local/lib/python3.11/dist-packages (from datasets) (2.2.2)\n",
            "Requirement already satisfied: requests>=2.32.2 in /usr/local/lib/python3.11/dist-packages (from datasets) (2.32.3)\n",
            "Requirement already satisfied: tqdm>=4.66.3 in /usr/local/lib/python3.11/dist-packages (from datasets) (4.67.1)\n",
            "Collecting xxhash (from datasets)\n",
            "  Downloading xxhash-3.5.0-cp311-cp311-manylinux_2_17_x86_64.manylinux2014_x86_64.whl.metadata (12 kB)\n",
            "Collecting multiprocess<0.70.17 (from datasets)\n",
            "  Downloading multiprocess-0.70.16-py311-none-any.whl.metadata (7.2 kB)\n",
            "Collecting fsspec<=2024.12.0,>=2023.1.0 (from fsspec[http]<=2024.12.0,>=2023.1.0->datasets)\n",
            "  Downloading fsspec-2024.12.0-py3-none-any.whl.metadata (11 kB)\n",
            "Requirement already satisfied: aiohttp in /usr/local/lib/python3.11/dist-packages (from datasets) (3.11.14)\n",
            "Requirement already satisfied: huggingface-hub>=0.24.0 in /usr/local/lib/python3.11/dist-packages (from datasets) (0.29.3)\n",
            "Requirement already satisfied: packaging in /usr/local/lib/python3.11/dist-packages (from datasets) (24.2)\n",
            "Requirement already satisfied: pyyaml>=5.1 in /usr/local/lib/python3.11/dist-packages (from datasets) (6.0.2)\n",
            "Requirement already satisfied: aiohappyeyeballs>=2.3.0 in /usr/local/lib/python3.11/dist-packages (from aiohttp->datasets) (2.6.1)\n",
            "Requirement already satisfied: aiosignal>=1.1.2 in /usr/local/lib/python3.11/dist-packages (from aiohttp->datasets) (1.3.2)\n",
            "Requirement already satisfied: attrs>=17.3.0 in /usr/local/lib/python3.11/dist-packages (from aiohttp->datasets) (25.3.0)\n",
            "Requirement already satisfied: frozenlist>=1.1.1 in /usr/local/lib/python3.11/dist-packages (from aiohttp->datasets) (1.5.0)\n",
            "Requirement already satisfied: multidict<7.0,>=4.5 in /usr/local/lib/python3.11/dist-packages (from aiohttp->datasets) (6.2.0)\n",
            "Requirement already satisfied: propcache>=0.2.0 in /usr/local/lib/python3.11/dist-packages (from aiohttp->datasets) (0.3.0)\n",
            "Requirement already satisfied: yarl<2.0,>=1.17.0 in /usr/local/lib/python3.11/dist-packages (from aiohttp->datasets) (1.18.3)\n",
            "Requirement already satisfied: typing-extensions>=3.7.4.3 in /usr/local/lib/python3.11/dist-packages (from huggingface-hub>=0.24.0->datasets) (4.12.2)\n",
            "Requirement already satisfied: charset-normalizer<4,>=2 in /usr/local/lib/python3.11/dist-packages (from requests>=2.32.2->datasets) (3.4.1)\n",
            "Requirement already satisfied: idna<4,>=2.5 in /usr/local/lib/python3.11/dist-packages (from requests>=2.32.2->datasets) (3.10)\n",
            "Requirement already satisfied: urllib3<3,>=1.21.1 in /usr/local/lib/python3.11/dist-packages (from requests>=2.32.2->datasets) (2.3.0)\n",
            "Requirement already satisfied: certifi>=2017.4.17 in /usr/local/lib/python3.11/dist-packages (from requests>=2.32.2->datasets) (2025.1.31)\n",
            "Requirement already satisfied: python-dateutil>=2.8.2 in /usr/local/lib/python3.11/dist-packages (from pandas->datasets) (2.8.2)\n",
            "Requirement already satisfied: pytz>=2020.1 in /usr/local/lib/python3.11/dist-packages (from pandas->datasets) (2025.1)\n",
            "Requirement already satisfied: tzdata>=2022.7 in /usr/local/lib/python3.11/dist-packages (from pandas->datasets) (2025.1)\n",
            "Requirement already satisfied: six>=1.5 in /usr/local/lib/python3.11/dist-packages (from python-dateutil>=2.8.2->pandas->datasets) (1.17.0)\n",
            "Downloading datasets-3.4.1-py3-none-any.whl (487 kB)\n",
            "\u001b[2K   \u001b[90m━━━━━━━━━━━━━━━━━━━━━━━━━━━━━━━━━━━━━━━━\u001b[0m \u001b[32m487.4/487.4 kB\u001b[0m \u001b[31m6.2 MB/s\u001b[0m eta \u001b[36m0:00:00\u001b[0m\n",
            "\u001b[?25hDownloading dill-0.3.8-py3-none-any.whl (116 kB)\n",
            "\u001b[2K   \u001b[90m━━━━━━━━━━━━━━━━━━━━━━━━━━━━━━━━━━━━━━━━\u001b[0m \u001b[32m116.3/116.3 kB\u001b[0m \u001b[31m7.5 MB/s\u001b[0m eta \u001b[36m0:00:00\u001b[0m\n",
            "\u001b[?25hDownloading fsspec-2024.12.0-py3-none-any.whl (183 kB)\n",
            "\u001b[2K   \u001b[90m━━━━━━━━━━━━━━━━━━━━━━━━━━━━━━━━━━━━━━━━\u001b[0m \u001b[32m183.9/183.9 kB\u001b[0m \u001b[31m10.0 MB/s\u001b[0m eta \u001b[36m0:00:00\u001b[0m\n",
            "\u001b[?25hDownloading multiprocess-0.70.16-py311-none-any.whl (143 kB)\n",
            "\u001b[2K   \u001b[90m━━━━━━━━━━━━━━━━━━━━━━━━━━━━━━━━━━━━━━━━\u001b[0m \u001b[32m143.5/143.5 kB\u001b[0m \u001b[31m7.9 MB/s\u001b[0m eta \u001b[36m0:00:00\u001b[0m\n",
            "\u001b[?25hDownloading xxhash-3.5.0-cp311-cp311-manylinux_2_17_x86_64.manylinux2014_x86_64.whl (194 kB)\n",
            "\u001b[2K   \u001b[90m━━━━━━━━━━━━━━━━━━━━━━━━━━━━━━━━━━━━━━━━\u001b[0m \u001b[32m194.8/194.8 kB\u001b[0m \u001b[31m10.8 MB/s\u001b[0m eta \u001b[36m0:00:00\u001b[0m\n",
            "\u001b[?25hInstalling collected packages: xxhash, fsspec, dill, multiprocess, datasets\n",
            "  Attempting uninstall: fsspec\n",
            "    Found existing installation: fsspec 2025.3.0\n",
            "    Uninstalling fsspec-2025.3.0:\n",
            "      Successfully uninstalled fsspec-2025.3.0\n",
            "\u001b[31mERROR: pip's dependency resolver does not currently take into account all the packages that are installed. This behaviour is the source of the following dependency conflicts.\n",
            "gcsfs 2025.3.0 requires fsspec==2025.3.0, but you have fsspec 2024.12.0 which is incompatible.\n",
            "torch 2.6.0+cu124 requires nvidia-cublas-cu12==12.4.5.8; platform_system == \"Linux\" and platform_machine == \"x86_64\", but you have nvidia-cublas-cu12 12.5.3.2 which is incompatible.\n",
            "torch 2.6.0+cu124 requires nvidia-cuda-cupti-cu12==12.4.127; platform_system == \"Linux\" and platform_machine == \"x86_64\", but you have nvidia-cuda-cupti-cu12 12.5.82 which is incompatible.\n",
            "torch 2.6.0+cu124 requires nvidia-cuda-nvrtc-cu12==12.4.127; platform_system == \"Linux\" and platform_machine == \"x86_64\", but you have nvidia-cuda-nvrtc-cu12 12.5.82 which is incompatible.\n",
            "torch 2.6.0+cu124 requires nvidia-cuda-runtime-cu12==12.4.127; platform_system == \"Linux\" and platform_machine == \"x86_64\", but you have nvidia-cuda-runtime-cu12 12.5.82 which is incompatible.\n",
            "torch 2.6.0+cu124 requires nvidia-cudnn-cu12==9.1.0.70; platform_system == \"Linux\" and platform_machine == \"x86_64\", but you have nvidia-cudnn-cu12 9.3.0.75 which is incompatible.\n",
            "torch 2.6.0+cu124 requires nvidia-cufft-cu12==11.2.1.3; platform_system == \"Linux\" and platform_machine == \"x86_64\", but you have nvidia-cufft-cu12 11.2.3.61 which is incompatible.\n",
            "torch 2.6.0+cu124 requires nvidia-curand-cu12==10.3.5.147; platform_system == \"Linux\" and platform_machine == \"x86_64\", but you have nvidia-curand-cu12 10.3.6.82 which is incompatible.\n",
            "torch 2.6.0+cu124 requires nvidia-cusolver-cu12==11.6.1.9; platform_system == \"Linux\" and platform_machine == \"x86_64\", but you have nvidia-cusolver-cu12 11.6.3.83 which is incompatible.\n",
            "torch 2.6.0+cu124 requires nvidia-cusparse-cu12==12.3.1.170; platform_system == \"Linux\" and platform_machine == \"x86_64\", but you have nvidia-cusparse-cu12 12.5.1.3 which is incompatible.\n",
            "torch 2.6.0+cu124 requires nvidia-nvjitlink-cu12==12.4.127; platform_system == \"Linux\" and platform_machine == \"x86_64\", but you have nvidia-nvjitlink-cu12 12.5.82 which is incompatible.\u001b[0m\u001b[31m\n",
            "\u001b[0mSuccessfully installed datasets-3.4.1 dill-0.3.8 fsspec-2024.12.0 multiprocess-0.70.16 xxhash-3.5.0\n"
          ]
        }
      ],
      "source": [
        "%pip install datasets\n",
        "%pip install Pillow\n",
        "%pip install numpy\n",
        "%pip install matplotlib\n",
        "%pip install import_ipynb\n",
        "%pip install tensorflow\n",
        "%pip install tensorflow.keras\n",
        "%pip install easyocr\n",
        "\n",
        "# library from etl\n",
        "%pip install datasets\n",
        "%pip install numpy\n",
        "%pip install Pillow\n",
        "%pip install opencv-python\n",
        "%pip install json"
      ]
    },
    {
      "cell_type": "code",
      "execution_count": null,
      "metadata": {
        "id": "LGb_mueSWqNf"
      },
      "outputs": [],
      "source": [
        "import easyocr\n",
        "import matplotlib.pyplot as plt\n",
        "from datasets import load_dataset\n",
        "import numpy as np\n",
        "from PIL import Image\n",
        "import cv2\n",
        "import tensorflow as tf\n",
        "# from tensorflow.keras import layers\n",
        "import json"
      ]
    },
    {
      "cell_type": "code",
      "execution_count": null,
      "metadata": {
        "id": "07me5aotGmoh"
      },
      "outputs": [],
      "source": [
        "from google.colab import userdata\n",
        "\n",
        "# Retrieve the GitHub token from userdata\n",
        "myGithub = userdata.get('githubKey')\n",
        "\n",
        "!git clone https://{myGithub}@github.com/fitristachan/invoice-image-processing.git /content/invoice_image_processing\n",
        "!git -C invoice_image_processing pull\n",
        "\n"
      ]
    },
    {
      "cell_type": "code",
      "execution_count": null,
      "metadata": {
        "id": "xAcGkB2eD3XN"
      },
      "outputs": [],
      "source": [
        "# import sys\n",
        "# import os\n",
        "\n",
        "# sys.path.append('/content/invoice-image-processing')\n",
        "# print(os.listdir('/content/invoice-image-processing'))\n",
        "\n",
        "# !jupyter nbconvert --to script '/content/invoice-image-processing/data_etl_invoice.ipynb' --output data_etl"
      ]
    },
    {
      "cell_type": "markdown",
      "metadata": {
        "id": "TCEJg9CPdah0"
      },
      "source": [
        "Image Classification"
      ]
    },
    {
      "cell_type": "code",
      "execution_count": null,
      "metadata": {
        "id": "bU8trHmydah6"
      },
      "outputs": [],
      "source": [
        "from invoice_image_processing.data_etl import DatasetReceipt"
      ]
    },
    {
      "cell_type": "code",
      "execution_count": null,
      "metadata": {
        "id": "HOuZzgszdah_"
      },
      "outputs": [],
      "source": [
        "# Inisialisasi dataset\n",
        "dataset_local = DatasetReceipt(dataset_name=\"naver-clova-ix/cord-v2\", split=\"train\")\n",
        "dataset_inter = DatasetReceipt(dataset_name=\"katanaml-org/invoices-donut-data-v1\", split=\"train\")"
      ]
    },
    {
      "cell_type": "code",
      "execution_count": null,
      "metadata": {
        "id": "H2PXLyE7daiC"
      },
      "outputs": [],
      "source": [
        "from keras.applications import ResNet50V2\n",
        "\n",
        "# keras.applications.ResNet50V2(\n",
        "#     include_top=True,\n",
        "#     weights=\"imagenet\",\n",
        "#     input_tensor=None,\n",
        "#     input_shape=None,\n",
        "#     pooling=None,\n",
        "#     classes=1000,\n",
        "#     classifier_activation=\"softmax\",\n",
        "#     name=\"resnet50v2\",\n",
        "# )\n",
        "\n",
        "pre_trained_model = ResNet50V2(input_shape = (600, 600, 3),\n",
        "                                include_top = False,\n",
        "                                pooling='max'\n",
        "                                )\n",
        "\n",
        "pre_trained_model.summary()"
      ]
    },
    {
      "cell_type": "code",
      "execution_count": null,
      "metadata": {
        "id": "6tBtz-UudaiE"
      },
      "outputs": [],
      "source": [
        "import tensorflow as tf\n",
        "from tensorflow.keras.applications import ResNet50V2\n",
        "from tensorflow.keras.models import Model\n",
        "from tensorflow.keras.layers import Input, Dense, Flatten, Dropout\n",
        "from tensorflow.keras.optimizers import Adam\n",
        "from tensorflow.keras.preprocessing.image import ImageDataGenerator\n",
        "\n",
        "# Load Dataset (Gunakan DatasetReceipt class yang sudah dibuat sebelumnya)\n",
        "train_dataset = DatasetReceipt(dataset_name=\"naver-clova-ix/cord-v2\", split=\"train\")\n",
        "# val_dataset = DatasetReceipt(dataset_name=\"katanaml-org/invoices-donut-data-v1\", split=\"train\")\n",
        "val_dataset = DatasetReceipt(dataset_name=\"naver-clova-ix/cord-v2\", split=\"validation\")\n",
        "\n",
        "# Function to generate batches\n",
        "def dataset_generator(dataset, batch_size=16, max_items=10):\n",
        "    while True:\n",
        "        batch_images = []\n",
        "        batch_bboxes = []\n",
        "        batch_classes = []\n",
        "        batch_prices = []\n",
        "        batch_totals = []\n",
        "\n",
        "        for _ in range(batch_size):\n",
        "            sample = dataset[np.random.randint(len(dataset))]\n",
        "\n",
        "            # 1. Image (remove batch dimension if present)\n",
        "            img = sample[\"image\"]\n",
        "            if img.ndim == 4 and img.shape[0] == 1:\n",
        "                img = img[0]\n",
        "            batch_images.append(img)\n",
        "\n",
        "            # 2. Bounding boxes (mock data - replace with real coordinates)\n",
        "            batch_bboxes.append([0.1, 0.1, 0.5, 0.5])  # [x1,y1,x2,y2]\n",
        "\n",
        "            # 3. Classes (one-hot encoded mock data)\n",
        "            batch_classes.append(np.eye(5)[0])  # 5 classes\n",
        "\n",
        "            # 4. Prices (handle missing/negative values)\n",
        "            prices = sample[\"menu_df\"][\"price\"].values\n",
        "            prices = np.clip(prices, 0, None)  # Replace negatives with 0\n",
        "            padded_prices = np.zeros(max_items)\n",
        "            padded_prices[:min(len(prices), max_items)] = prices[:max_items]\n",
        "            batch_prices.append(padded_prices)\n",
        "\n",
        "            # 5. Total (ensure positive)\n",
        "            total = max(0, sample[\"total_price\"])\n",
        "            batch_totals.append([total])\n",
        "\n",
        "        yield (\n",
        "            np.array(batch_images),\n",
        "            {\n",
        "                \"bounding_box\": np.array(batch_bboxes),\n",
        "                \"class_label\": np.array(batch_classes),\n",
        "                \"price_regression\": np.array(batch_prices),\n",
        "                \"total_regression\": np.array(batch_totals)\n",
        "            }\n",
        "        )"
      ]
    },
    {
      "cell_type": "code",
      "source": [
        "from tensorflow.keras.models import Model\n",
        "from tensorflow.keras.layers import Input, Dense, Flatten, Dropout\n",
        "from tensorflow.keras.applications import ResNet50V2\n",
        "\n",
        "# 1. Define Input Layer\n",
        "inputs = Input(shape=(600, 600, 3))  # Match your image size\n",
        "\n",
        "# 2. Load Pretrained ResNet50V2 (without top)\n",
        "base_model = ResNet50V2(\n",
        "    input_shape=(600, 600, 3),\n",
        "    include_top=False,\n",
        "    pooling='max'  # GlobalMaxPooling2D\n",
        ")\n",
        "base_model.trainable = False  # Freeze weights\n",
        "\n",
        "# 3. Connect Base Model to Inputs\n",
        "x = base_model(inputs)\n",
        "\n",
        "# 4. Add Custom Layers\n",
        "x = Dense(512, activation='relu')(x)\n",
        "x = Dropout(0.5)(x)\n",
        "\n",
        "# 5. Define Output Layers\n",
        "bbox_output = Dense(4, name=\"bounding_box\")(x)  # 4 coordinates\n",
        "class_output = Dense(5, activation='softmax', name=\"class_label\")(x)\n",
        "price_output = Dense(10, name=\"price_regression\")(x)  # Predict 10 prices\n",
        "total_output = Dense(1, name=\"total_regression\")(x)  # Predict total\n",
        "\n",
        "# 6. Create Model\n",
        "model = Model(\n",
        "    inputs=inputs,\n",
        "    outputs=[bbox_output, class_output, price_output, total_output]\n",
        ")\n",
        "\n",
        "# 7. Compile\n",
        "model.compile(\n",
        "    optimizer='adam',\n",
        "    loss={\n",
        "        \"bounding_box\": \"mse\",\n",
        "        \"class_label\": \"categorical_crossentropy\",\n",
        "        \"price_regression\": \"mse\",\n",
        "        \"total_regression\": \"mse\"\n",
        "    },\n",
        "    metrics={\"total_regression\": \"mae\"}\n",
        ")"
      ],
      "metadata": {
        "id": "YI1hJa585Abi"
      },
      "execution_count": null,
      "outputs": []
    },
    {
      "cell_type": "code",
      "execution_count": null,
      "metadata": {
        "id": "sa3Lhc5IdaiH"
      },
      "outputs": [],
      "source": [
        "model.summary()"
      ]
    },
    {
      "cell_type": "code",
      "execution_count": null,
      "metadata": {
        "id": "NesXI0OtdaiJ"
      },
      "outputs": [],
      "source": [
        "from tensorflow.keras.callbacks import ModelCheckpoint\n",
        "from tensorflow.keras.models import load_model\n",
        "\n",
        "checkpoint_path = \"/content/drive/MyDrive/dataset/model/model_checkpoint_resnet50v2.h5\"\n",
        "checkpoint_callback = ModelCheckpoint(checkpoint_path, save_best_only=False)"
      ]
    },
    {
      "cell_type": "code",
      "execution_count": null,
      "metadata": {
        "id": "1wlbW1k7daiK"
      },
      "outputs": [],
      "source": [
        "class Callbacks(tf.keras.callbacks.Callback):\n",
        "    def on_epoch_end(self, epoch, logs=None):\n",
        "        if logs['accuracy'] > 0.95 and logs['val_accuracy'] > 95:\n",
        "            print(\"\\nAccuracy reached 95%! Stopping training.\")\n",
        "            self.model.stop_training = True\n",
        "\n",
        "stop_callback = Callbacks()"
      ]
    },
    {
      "cell_type": "code",
      "execution_count": null,
      "metadata": {
        "id": "lOTz8lf-daiR"
      },
      "outputs": [],
      "source": [
        "from keras.callbacks import CSVLogger\n",
        "\n",
        "csv_logger = CSVLogger('training_log.csv', separator=',', append=True)"
      ]
    },
    {
      "cell_type": "code",
      "source": [
        "# Data Augmentation\n",
        "train_generator = dataset_generator(train_dataset, batch_size=16)\n",
        "val_generator = dataset_generator(val_dataset, batch_size=16)"
      ],
      "metadata": {
        "id": "o-2NqQGS32KM"
      },
      "execution_count": null,
      "outputs": []
    },
    {
      "cell_type": "code",
      "execution_count": null,
      "metadata": {
        "id": "2KtxRqZwdaiT"
      },
      "outputs": [],
      "source": [
        "# # Train Model\n",
        "# model.fit(train_generator,\n",
        "#           validation_data=val_generator,\n",
        "#           epochs=25,\n",
        "#           steps_per_epoch=1000,\n",
        "#           validation_steps=200,\n",
        "#           callbacks=[checkpoint_callback, csv_logger])\n",
        "\n",
        "model.fit(\n",
        "    train_generator,\n",
        "    validation_data=val_generator,\n",
        "    epochs=25,\n",
        "    steps_per_epoch=100,\n",
        "    validation_steps=50\n",
        ")"
      ]
    },
    {
      "cell_type": "code",
      "execution_count": null,
      "metadata": {
        "id": "x55jLRovdaiU"
      },
      "outputs": [],
      "source": [
        "import pandas as pd\n",
        "import matplotlib.pyplot as plt\n",
        "\n",
        "# Load training log\n",
        "log_data = pd.read_csv(\"training_log.csv\")\n",
        "\n",
        "# Buat figure untuk dua grafik\n",
        "plt.figure(figsize=(16, 6))\n",
        "\n",
        "# Plot Accuracy\n",
        "plt.subplot(1, 2, 1)\n",
        "plt.title(\"Model Accuracy\")\n",
        "plt.plot(log_data[\"epoch\"], log_data[\"bounding_box_mae\"], label=\"Training MAE\")\n",
        "plt.plot(log_data[\"epoch\"], log_data[\"val_bounding_box_mae\"], label=\"Validation MAE\")\n",
        "plt.plot(log_data[\"epoch\"], log_data[\"class_label_accuracy\"], label=\"Training Accuracy\")\n",
        "plt.plot(log_data[\"epoch\"], log_data[\"val_class_label_accuracy\"], label=\"Validation Accuracy\")\n",
        "plt.xlabel(\"Epoch\")\n",
        "plt.ylabel(\"Accuracy / MAE\")\n",
        "plt.legend()\n",
        "\n",
        "# Plot Loss\n",
        "plt.subplot(1, 2, 2)\n",
        "plt.title(\"Model Loss\")\n",
        "plt.plot(log_data[\"epoch\"], log_data[\"loss\"], label=\"Training Loss\")\n",
        "plt.plot(log_data[\"epoch\"], log_data[\"val_loss\"], label=\"Validation Loss\")\n",
        "plt.xlabel(\"Epoch\")\n",
        "plt.ylabel(\"Loss\")\n",
        "plt.legend()\n",
        "\n",
        "plt.show()"
      ]
    },
    {
      "cell_type": "code",
      "execution_count": null,
      "metadata": {
        "id": "iI2ky4WQdaiV"
      },
      "outputs": [],
      "source": [
        "# # Save Model\n",
        "# model.save(\"faster_rcnn_resnet50v2.h5\")\n",
        "# print(\"Model saved successfully!\")"
      ]
    },
    {
      "cell_type": "markdown",
      "metadata": {
        "id": "Ged1zlumREAq"
      },
      "source": [
        "**Text Extraction**\n",
        "\n",
        "> using easyocr\n",
        "\n",
        "> support bahasa indonesia and english\n",
        "\n",
        "\n",
        "\n"
      ]
    },
    {
      "cell_type": "code",
      "execution_count": null,
      "metadata": {
        "id": "-f01YTPk-JDk"
      },
      "outputs": [],
      "source": [
        "reader = easyocr.Reader(['en', 'id'])\n",
        "\n",
        "def is_receipt(text):\n",
        "    text_lower = text.lower()\n",
        "\n",
        "    if 'total' or 'amount' or 'jumlah' and 'price' or 'harga' in text_lower:\n",
        "        print(\"This is a valid receipt.\")\n",
        "    else:\n",
        "        print(\"This is not a valid receipt.\")\n",
        "\n",
        "\n",
        "def process_image(image):\n",
        "    # Convert PIL Image to numpy array\n",
        "    image_np = np.array(image)\n",
        "    if image_np.dtype != np.uint8:\n",
        "        image_np = (image_np * 255).astype(np.uint8)  # Normalisasi jika float64\n",
        "\n",
        "    # Extract text using EasyOCR\n",
        "    results = reader.readtext(image_np)\n",
        "\n",
        "    # Combine all detected text into a single string\n",
        "    extracted_text = ' '.join([result[1] for result in results])\n",
        "\n",
        "    # Check if the extracted text is a receipt\n",
        "    is_receipt(extracted_text)\n",
        "\n",
        "    print(\"Extracted Text:\")\n",
        "    print(extracted_text)"
      ]
    },
    {
      "cell_type": "markdown",
      "metadata": {
        "id": "VfWAG_a-daib"
      },
      "source": [
        "Fine Tuning"
      ]
    },
    {
      "cell_type": "code",
      "execution_count": null,
      "metadata": {
        "id": "8wGcf78jdaif"
      },
      "outputs": [],
      "source": [
        "# data_tuning_local = load_dataset(\"naver-clova-ix/cord-v2\", split=\"train\")\n",
        "# data_tuning_inter = load_dataset(\"katanaml-org/invoices-donut-data-v1\", split=\"train\")\n",
        "# data_tuning_inter[5]\n"
      ]
    },
    {
      "cell_type": "code",
      "execution_count": null,
      "metadata": {
        "id": "VcWcBUyUdaig"
      },
      "outputs": [],
      "source": [
        "# import os\n",
        "# import json\n",
        "\n",
        "# def convert_dataset_local(dataset, output_file):\n",
        "#     annotations = []\n",
        "\n",
        "#     # Pastikan folder untuk menyimpan gambar ada\n",
        "#     os.makedirs(\"dataset_images\", exist_ok=True)\n",
        "\n",
        "#     for i, data in enumerate(dataset):\n",
        "#         image = data[\"image\"]  # Objek gambar dari PIL\n",
        "#         ground_truth = json.loads(data[\"ground_truth\"])  # Parsing JSON string\n",
        "\n",
        "#         # Simpan gambar ke folder agar bisa digunakan oleh EasyOCR\n",
        "#         image_path = f\"dataset_images/image_{i}.jpg\"\n",
        "#         image.save(image_path)\n",
        "\n",
        "#         # Ambil teks dan bounding box dari ground truth\n",
        "#         text = ground_truth[\"gt_parse\"]  # Semua teks dan informasi struk\n",
        "#         words = []\n",
        "#         for line in ground_truth[\"valid_line\"]:  # Ambil setiap baris\n",
        "#             for word in line[\"words\"]:  # Ambil setiap kata dalam baris\n",
        "#                 words.append({\n",
        "#                     \"text\": word[\"text\"],\n",
        "#                     \"quad\": word[\"quad\"],\n",
        "#                     \"row_id\": word[\"row_id\"],\n",
        "#                     \"category\": line[\"category\"],\n",
        "#                     \"group_id\": line[\"group_id\"]\n",
        "#                 })\n",
        "\n",
        "#         # Simpan dalam format yang sesuai untuk EasyOCR\n",
        "#         annotations.append({\n",
        "#             \"image\": image_path,\n",
        "#             \"text\": text,\n",
        "#             \"words\": words\n",
        "#         })\n",
        "\n",
        "#     # Simpan hasil dalam file JSON\n",
        "#     with open(output_file, \"w\", encoding=\"utf-8\") as f:\n",
        "#         json.dump(annotations, f, indent=4, ensure_ascii=False)\n",
        "\n",
        "\n",
        "# def convert_dataset_inter(dataset, output_file):\n",
        "#     \"\"\"\n",
        "#     Mengonversi dataset faktur/invoice ke format JSON untuk EasyOCR.\n",
        "#     \"\"\"\n",
        "#     annotations = []\n",
        "\n",
        "#     for i, data in enumerate(dataset):\n",
        "#         image = data[\"image\"]  # PIL Image\n",
        "#         ground_truth = json.loads(data[\"ground_truth\"])[\"gt_parse\"]  # Parse JSON\n",
        "\n",
        "#         # Simpan gambar\n",
        "#         image_path = f\"dataset_images/invoice_{i}.jpg\"\n",
        "#         os.makedirs(\"dataset_images\", exist_ok=True)\n",
        "#         image.save(image_path)\n",
        "\n",
        "#         words = []\n",
        "#         items = ground_truth.get(\"items\", [])  # Pastikan mengambil 'items' dengan default []\n",
        "#         if items:\n",
        "#             for item in items:\n",
        "#                 words.append({\n",
        "#                     \"text\": item.get(\"item_desc\", \"UNKNOWN_ITEM\"),\n",
        "#                     \"quad\": None,\n",
        "#                     \"row_id\": None,\n",
        "#                     \"group_id\": None\n",
        "#                 })\n",
        "\n",
        "#         annotations.append({\n",
        "#             \"image\": image_path,\n",
        "#             \"text\": ground_truth,  # Simpan seluruh teks yang diparsing\n",
        "#             \"bbox\": words\n",
        "#         })\n",
        "\n",
        "#         # Pastikan folder Google Drive tujuan benar\n",
        "#         drive_folder = \"G:/My Drive/dataset\"\n",
        "#         output_file = os.path.join(drive_folder, \"dataset_annotations.json\")\n",
        "\n",
        "#         # Simpan sebagai JSON\n",
        "#         with open(output_file, \"w\", encoding=\"utf-8\") as f:\n",
        "#             json.dump(annotations, f, indent=4, ensure_ascii=False)\n",
        "\n",
        "#         print(f\"Dataset invoice berhasil disimpan ke {output_file}\")\n"
      ]
    },
    {
      "cell_type": "code",
      "execution_count": null,
      "metadata": {
        "id": "-yDHC3W-daih"
      },
      "outputs": [],
      "source": [
        "# # Konversi dataset 1 dan dataset 2\n",
        "# convert_dataset_local(data_tuning_local, \"data_tuning_local.json\")\n",
        "# convert_dataset_inter(data_tuning_inter, \"data_tuning_inter.json\")"
      ]
    },
    {
      "cell_type": "code",
      "execution_count": null,
      "metadata": {
        "id": "vf4Bki4wdaij"
      },
      "outputs": [],
      "source": [
        "# python train.py --batch_size 16 --num_epochs 10 --lr 0.001 --train_data data_tuning_local.json data_tuning_inter.json\n"
      ]
    },
    {
      "cell_type": "markdown",
      "metadata": {
        "id": "aq_0KEjbdaij"
      },
      "source": [
        "POST-PROCESSING"
      ]
    },
    {
      "cell_type": "markdown",
      "metadata": {
        "id": "-JSb4TOIdail"
      },
      "source": [
        "Pre-Processing Hasil Text Extraction"
      ]
    },
    {
      "cell_type": "code",
      "execution_count": null,
      "metadata": {
        "id": "52b5q5KAQhWp"
      },
      "outputs": [],
      "source": []
    },
    {
      "cell_type": "markdown",
      "metadata": {
        "id": "WLhH5MTNdaim"
      },
      "source": [
        "Training BERT/NER"
      ]
    },
    {
      "cell_type": "code",
      "execution_count": null,
      "metadata": {
        "id": "IorHW1GTdain"
      },
      "outputs": [],
      "source": []
    }
  ],
  "metadata": {
    "accelerator": "GPU",
    "colab": {
      "gpuType": "T4",
      "provenance": []
    },
    "kernelspec": {
      "display_name": "Python 3",
      "name": "python3"
    },
    "language_info": {
      "codemirror_mode": {
        "name": "ipython",
        "version": 3
      },
      "file_extension": ".py",
      "mimetype": "text/x-python",
      "name": "python",
      "nbconvert_exporter": "python",
      "pygments_lexer": "ipython3",
      "version": "3.11.9"
    }
  },
  "nbformat": 4,
  "nbformat_minor": 0
}