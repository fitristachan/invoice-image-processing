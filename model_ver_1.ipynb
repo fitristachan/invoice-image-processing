{
  "cells": [
    {
      "cell_type": "code",
      "source": [
        "# !pip install datasets\n",
        "# !pip install easyocr\n",
        "# !pip install Pillow\n",
        "!pip install numpy"
      ],
      "metadata": {
        "id": "l7AbYIPTK4Ei",
        "outputId": "68b7e3f3-8052-4b7e-e43e-25fed994c49c",
        "colab": {
          "base_uri": "https://localhost:8080/"
        }
      },
      "execution_count": 8,
      "outputs": [
        {
          "output_type": "stream",
          "name": "stdout",
          "text": [
            "Requirement already satisfied: numpy in /usr/local/lib/python3.11/dist-packages (1.26.4)\n"
          ]
        }
      ]
    },
    {
      "cell_type": "code",
      "execution_count": 10,
      "metadata": {
        "id": "enc7HW6ji0rz"
      },
      "outputs": [],
      "source": [
        "from datasets import load_dataset\n",
        "import easyocr\n",
        "import numpy as np\n",
        "from PIL import Image"
      ]
    },
    {
      "cell_type": "markdown",
      "source": [
        "**Text Extraction**\n",
        "\n",
        "> using easyocr\n",
        "\n",
        "> support bahasa indonesia and english\n",
        "\n",
        "\n",
        "\n"
      ],
      "metadata": {
        "id": "Ged1zlumREAq"
      }
    },
    {
      "cell_type": "code",
      "source": [
        "reader = easyocr.Reader(['en', 'id'])\n",
        "\n",
        "def is_receipt(text, logic='AND'):\n",
        "    required_keywords = ['total', 'amount', 'jumlah', 'price', 'harga']\n",
        "    text_lower = text.lower()\n",
        "\n",
        "    #diubah nanti jadinya ada yang and ada yang or\n",
        "    if logic == 'AND':\n",
        "        return all(keyword in text_lower for keyword in required_keywords)\n",
        "    elif logic == 'OR':\n",
        "        return any(keyword in text_lower for keyword in required_keywords)\n",
        "    else:\n",
        "        raise ValueError(\"Invalid logic parameter. Use 'AND' or 'OR'.\")\n",
        "\n",
        "\n",
        "def process_image(image, logic='AND'):\n",
        "    # Convert PIL Image to numpy array\n",
        "    image_np = np.array(image)\n",
        "\n",
        "    # Extract text using EasyOCR\n",
        "    results = reader.readtext(image_np)\n",
        "\n",
        "    # Combine all detected text into a single string\n",
        "    extracted_text = ' '.join([result[1] for result in results])\n",
        "\n",
        "    # Check if the extracted text is a receipt\n",
        "    if is_receipt(extracted_text, logic=logic):\n",
        "        print(\"This is a valid receipt.\")\n",
        "        print(\"Extracted Text:\")\n",
        "        print(extracted_text)\n",
        "    else:\n",
        "        print(\"This is not a valid receipt.\")\n",
        "\n",
        "# Load the CORD-v2 dataset\n",
        "dataset = load_dataset(\"naver-clova-ix/cord-v2\")\n",
        "\n",
        "# Load international style dataset\n",
        "\n",
        "\n",
        "# Example: Process the first few images in the dataset\n",
        "for example in dataset['train'].select(range(5)):  # Process the first 5 examples\n",
        "    image = example['image']  # Get the PIL Image object\n",
        "    print(\"Processing image...\")\n",
        "\n",
        "    # Process the image with OR logic\n",
        "    process_image(image, logic='OR')\n",
        "    print(\"-\" * 50)"
      ],
      "metadata": {
        "colab": {
          "base_uri": "https://localhost:8080/"
        },
        "id": "crxLWM93oxy-",
        "outputId": "e60844b5-8052-497b-e597-6c2e5703861f"
      },
      "execution_count": 14,
      "outputs": [
        {
          "output_type": "stream",
          "name": "stderr",
          "text": [
            "WARNING:easyocr.easyocr:Neither CUDA nor MPS are available - defaulting to CPU. Note: This module is much faster with a GPU.\n"
          ]
        },
        {
          "output_type": "stream",
          "name": "stdout",
          "text": [
            "Processing image...\n",
            "This is a valid receipt.\n",
            "Extracted Text:\n",
            "Nasi Campur Bali 75,Ooo Bbk Bengil Nasi 125,ooo MilkShake Starwo 37,ooo Ice Lemon Tea 24,Ooo Nas: Ayan Dewata 70,ooo 7 Fr2e Ice Tea Organic Ereen Sa 65,Ooo Ice Tea 16,Ooo Ice Orange 29,Ooo Ayan Suir Bali 85,Ooo 2 Tanu Goreng 36,Ooo 2 Tempe Goreng 36.Ooo Tahu Telor Asin 40,Ooo 1 Nasi Goreng Sant 70,Ooo 3 Bbk Panggang San 366.Ooo Ayan Sanbzl H-ja 52,Ooo 2 Hor Tea 44,Ooo 1 Ice Kopi 32,Qoo Tahu Telor Asin 40,OOo 1 Free Ice Tea 1 Bebek Street 44,Ooo Ice Tea Tawar 18,OOo Sub-Total 1,346,0oo Service 1oo,950 PB1 144,695 Rounding 145 Srand Tl 1 591,600\n",
            "--------------------------------------------------\n",
            "Processing image...\n",
            "This is a valid receipt.\n",
            "Extracted Text:\n",
            "Prot Con 1 SPGTHY BOLOGNASE 58,Ooo 1 PEPPER Avs 165,OOo WELL DONE WAGYU RIBEYE 195,Ooo MEDIUM WELL 1 ICED LEMON TEA 22 , Ooo 1 FUSIoN TEA LYCHE 28 , OQO NUTTELA BRDWNIES 35,Ooo 503,OOo SUBToTAl 52,815 PB1 25, SVC ChRG DUE 580,965 150\n",
            "--------------------------------------------------\n",
            "Processing image...\n",
            "This is a valid receipt.\n",
            "Extracted Text:\n",
            "HAKAU UDANG 92,000 SIAO MAI BABI 80,000 3 CEKER AYAM 60,000 2 BAKPAO BKR € 42, CRISPY 3 TAHU GORENG 60,00O CRISPY Subtotal 334,000 Total 334,000 Cash 350,000 Cash CHANGE -16,000 5 Total Item Total Qty 16 0OO\n",
            "--------------------------------------------------\n",
            "Processing image...\n",
            "This is a valid receipt.\n",
            "Extracted Text:\n",
            "Bintang Bremer 59,000 Chicken H-H 190,000 Ades 10,00o Sub Total 259,000 Service 9,600 Tax 52,416 Discount 19,000 TOTAL 302,016\n",
            "--------------------------------------------------\n",
            "Processing image...\n",
            "This is not a valid receipt.\n",
            "--------------------------------------------------\n"
          ]
        }
      ]
    },
    {
      "cell_type": "code",
      "source": [],
      "metadata": {
        "id": "hGlCXqf7RAyY"
      },
      "execution_count": null,
      "outputs": []
    },
    {
      "cell_type": "code",
      "source": [],
      "metadata": {
        "id": "FDRKJRv6tv0v"
      },
      "execution_count": null,
      "outputs": []
    }
  ],
  "metadata": {
    "language_info": {
      "name": "python"
    },
    "colab": {
      "provenance": []
    },
    "kernelspec": {
      "name": "python3",
      "display_name": "Python 3"
    }
  },
  "nbformat": 4,
  "nbformat_minor": 0
}