{
 "cells": [
  {
   "cell_type": "code",
   "execution_count": null,
   "metadata": {},
   "outputs": [],
   "source": [
    "%pip install easyocr"
   ]
  },
  {
   "cell_type": "code",
   "execution_count": null,
   "metadata": {},
   "outputs": [],
   "source": [
    "import os\n",
    "import easyocr\n",
    "\n",
    "# Mount Google Drive terlebih dahulu\n",
    "from google.colab import drive\n",
    "drive.mount('/content/drive')\n",
    "\n",
    "reader = easyocr.Reader(['id', 'en'])\n",
    "\n",
    "# Path ke folder dataset di Google Drive\n",
    "image_folder = \"/content/drive/My Drive/dataset/train\"\n",
    "label_file = \"/content/drive/My Drive/dataset/train_labels.txt\"\n",
    "\n",
    "with open(label_file, \"w\") as f:\n",
    "    for img_name in os.listdir(image_folder):\n",
    "        img_path = os.path.join(image_folder, img_name)\n",
    "        result = reader.readtext(img_path, detail=0)  # Ambil hanya teksnya\n",
    "        text_label = \" \".join(result)\n",
    "        f.write(f\"{img_name}, \\\"{text_label}\\\"\\n\")\n",
    "\n",
    "print(f\"Label tersimpan di: {label_file}\")\n"
   ]
  }
 ],
 "metadata": {
  "language_info": {
   "name": "python"
  }
 },
 "nbformat": 4,
 "nbformat_minor": 2
}
